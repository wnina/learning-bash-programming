{
 "cells": [
  {
   "cell_type": "markdown",
   "metadata": {},
   "source": [
    "- Curso Programación utilizando BASH usando el cluster INKARI/UNSA.\n",
    "\n",
    "- Realizado IAAPP ubicado en Characato, Arequipa - Perú.\n",
    "\n",
    "- Se utilizo A Jupyter kernel for bash (https://github.com/takluyver/bash_kernel).\n",
    "\n",
    "- Creado por Mg. Wilder Nina Choquehuayta.\n",
    "\n",
    "# Definiciones\n",
    "\n",
    "##  scripts\n",
    "Son programas que automatizan tareas que podrian alternativamente ejecutados uno por uno por una persona\n",
    "\n",
    "\n",
    "## shell \n",
    "\n",
    "Es una interfaz entre el usuario y el sistema operativo para acceder a acceder a los servicios. Puede ser GUI(Graphical User Interface) o CLI (Command Line interface).\n",
    "\n",
    "## sh (Bourne shell)\n",
    "\n",
    "Es una interprete de linea de comandos de shell para los sistemas operativos con base UNIX. Se denota utilizando \n",
    "\"#!/bin/sh\".\n",
    "\n",
    "## bash (Bourne again shell)\n",
    "\n",
    "Es un interprete de linea de comandos de shell que soporta sh. Se denota utilizando \"#!/bin/bash\".\n"
   ]
  },
  {
   "cell_type": "markdown",
   "metadata": {},
   "source": [
    "# Variables y Operadores\n",
    "\n",
    "- Las variables son contenedores que almacenan diferentes tipos de datos.\n",
    "- En bash presenta un tipado dinámico.\n",
    "- Para declarar una variable es: \"[nombre_variable]=[valor]\".\n",
    "- Para acceder al valor de una variable es: \"$[nombre_variable]\".\n",
    "- Para hacer comentarios se antepone \"#\".\n",
    "- Para imprimir texto o el valor de una variable se utiliza \"echo\".\n",
    "- No requiere de un simbolo para concantener texto o número.\n",
    "\n",
    "## Números\n",
    "\n",
    "Declarar:"
   ]
  },
  {
   "cell_type": "code",
   "execution_count": 1,
   "metadata": {
    "collapsed": true
   },
   "outputs": [],
   "source": [
    "#!/bin/bash\n",
    "# Esto es número\n",
    "x=30 \n",
    "y=15\n",
    "z=4"
   ]
  },
  {
   "cell_type": "markdown",
   "metadata": {},
   "source": [
    "Las operaciones son:"
   ]
  },
  {
   "cell_type": "code",
   "execution_count": 2,
   "metadata": {},
   "outputs": [
    {
     "name": "stdout",
     "output_type": "stream",
     "text": [
      "La suma es 34\n",
      "La resta es 26\n",
      "La multiplicación es 120\n",
      "La división es 7\n"
     ]
    }
   ],
   "source": [
    "let s=$x+$z\n",
    "let r=$x-$z\n",
    "let m=$x*$z\n",
    "let d=$x/$z\n",
    "\n",
    "echo \"La suma es\" $s\n",
    "echo \"La resta es\" $r\n",
    "echo \"La multiplicación es\"  $m\n",
    "echo \"La división es\"  $d"
   ]
  },
  {
   "cell_type": "markdown",
   "metadata": {},
   "source": [
    "Para hacer operaciones donde el resultado es un número real, se utiliza bc. bc es un calculador de precisión arbitraria para la shell.\n",
    "\n",
    "El simbolo pipe, cauce o \" | \". Se utiliza como tuberia, como entrada de datos para un comando "
   ]
  },
  {
   "cell_type": "code",
   "execution_count": 3,
   "metadata": {},
   "outputs": [
    {
     "name": "stdout",
     "output_type": "stream",
     "text": [
      "7.50\n"
     ]
    }
   ],
   "source": [
    "echo \"scale=2; $x/$z\" | bc"
   ]
  },
  {
   "cell_type": "markdown",
   "metadata": {},
   "source": [
    "La operación anterior puede ser guada en una variable para ser usado despues."
   ]
  },
  {
   "cell_type": "code",
   "execution_count": 4,
   "metadata": {},
   "outputs": [
    {
     "name": "stdout",
     "output_type": "stream",
     "text": [
      "La división es 7.50\n"
     ]
    }
   ],
   "source": [
    "dd=$(echo \"scale=2; $x/$z\" | bc)\n",
    "echo \"La división es\"  $dd"
   ]
  },
  {
   "cell_type": "markdown",
   "metadata": {},
   "source": [
    "Para realizar una operación en potencia o raiz."
   ]
  },
  {
   "cell_type": "code",
   "execution_count": 5,
   "metadata": {},
   "outputs": [
    {
     "name": "stdout",
     "output_type": "stream",
     "text": [
      "Elevado al cuadrado es 25\n"
     ]
    }
   ],
   "source": [
    "n=5\n",
    "r1=$(echo \"scale=2; $n^2\" | bc)\n",
    "echo \"Elevado al cuadrado es\"  $r1"
   ]
  },
  {
   "cell_type": "markdown",
   "metadata": {},
   "source": [
    "## Texto"
   ]
  },
  {
   "cell_type": "code",
   "execution_count": 6,
   "metadata": {
    "collapsed": true
   },
   "outputs": [],
   "source": [
    "# Esto es un texto\n",
    "a=\"Pedro\" \n",
    "b=false\n",
    "c=\"Juan\""
   ]
  },
  {
   "cell_type": "markdown",
   "metadata": {},
   "source": [
    "# Arreglos \n",
    "Son un conjunto de contenedores, numerados desde 0 hasta n-1. \n",
    "\n",
    "- La declaración un arreglo es: \"[nombre_variable]=([valor 1] [valor 2] [valor 3] ... [valor n] )\". \n",
    "- Para acceder a los valores del arreglo es: \"${[nombre_variable][[indice]]}\".\n"
   ]
  },
  {
   "cell_type": "code",
   "execution_count": 7,
   "metadata": {},
   "outputs": [
    {
     "name": "stdout",
     "output_type": "stream",
     "text": [
      "El valor del primer elemento es 1\n",
      "El valor del segundo elemento es 1\n",
      "El valor del tercer elemento es 1\n",
      "El valor del cuarto elemento es 1\n"
     ]
    }
   ],
   "source": [
    "arreglo1=(1 2 3 4)\n",
    "echo \"El valor del primer elemento es\" ${arreglo1[0]}\n",
    "echo \"El valor del segundo elemento es\" ${arreglo1[0]}\n",
    "echo \"El valor del tercer elemento es\" ${arreglo1[0]}\n",
    "echo \"El valor del cuarto elemento es\" ${arreglo1[0]}"
   ]
  },
  {
   "cell_type": "code",
   "execution_count": 8,
   "metadata": {},
   "outputs": [
    {
     "name": "stdout",
     "output_type": "stream",
     "text": [
      "El valor del primer elemento es hola\n",
      "El valor del segundo elemento es hola\n",
      "El valor del tercer elemento es hola\n",
      "El valor del cuarto elemento es hola\n",
      "El valor del primer elemento es hola\n"
     ]
    }
   ],
   "source": [
    "arreglo2=(a hola mundo juan abc)\n",
    "echo \"El valor del primer elemento es\" ${arreglo2[1]}\n",
    "echo \"El valor del segundo elemento es\" ${arreglo2[1]}\n",
    "echo \"El valor del tercer elemento es\" ${arreglo2[1]}\n",
    "echo \"El valor del cuarto elemento es\" ${arreglo2[1]}\n",
    "echo \"El valor del primer elemento es\" ${arreglo2[1]}"
   ]
  },
  {
   "cell_type": "code",
   "execution_count": 9,
   "metadata": {},
   "outputs": [
    {
     "name": "stdout",
     "output_type": "stream",
     "text": [
      "El valor del primer elemento es a\n",
      "El valor del segundo elemento es 4\n",
      "El valor del tercer elemento es mundo\n",
      "El valor del cuarto elemento es juan\n",
      "El valor del primer elemento es 1\n"
     ]
    }
   ],
   "source": [
    "arreglo3=(a 4 mundo juan 1)\n",
    "echo \"El valor del primer elemento es\" ${arreglo3[0]}\n",
    "echo \"El valor del segundo elemento es\" ${arreglo3[1]}\n",
    "echo \"El valor del tercer elemento es\" ${arreglo3[2]}\n",
    "echo \"El valor del cuarto elemento es\" ${arreglo3[3]}\n",
    "echo \"El valor del primer elemento es\" ${arreglo3[4]}"
   ]
  },
  {
   "cell_type": "markdown",
   "metadata": {},
   "source": [
    "Para asignar un valor diferente a un elemento de un array es:"
   ]
  },
  {
   "cell_type": "code",
   "execution_count": 10,
   "metadata": {},
   "outputs": [
    {
     "name": "stdout",
     "output_type": "stream",
     "text": [
      "El nuevo valor es  12\n"
     ]
    }
   ],
   "source": [
    "arreglo3[0]=12\n",
    "\n",
    "echo \"El nuevo valor es \" ${arreglo3[0]]}  "
   ]
  },
  {
   "cell_type": "markdown",
   "metadata": {},
   "source": [
    "Para retornar el tamaño de un arreglo es:"
   ]
  },
  {
   "cell_type": "code",
   "execution_count": 11,
   "metadata": {},
   "outputs": [
    {
     "name": "stdout",
     "output_type": "stream",
     "text": [
      "El tamaño es  5\n"
     ]
    }
   ],
   "source": [
    "echo \"El tamaño es \" ${#arreglo3[*]}  "
   ]
  },
  {
   "cell_type": "markdown",
   "metadata": {},
   "source": [
    "# Condicionales\n",
    "\n",
    "En todo entorno de programación es necesario automatizar la repetición de determinadas acciones un número fijo de veces o en función de que se cumpla o no una condición."
   ]
  },
  {
   "cell_type": "markdown",
   "metadata": {},
   "source": [
    "La estructura es:\n",
    "\n",
    "    if [condition]; then\n",
    "        statement;\n",
    "        . . .\n",
    "    else statement;\n",
    "        . . .\n",
    "    fi\n"
   ]
  },
  {
   "cell_type": "markdown",
   "metadata": {},
   "source": [
    "![Operadores Númericos](./operadores-numericos.png)"
   ]
  },
  {
   "cell_type": "code",
   "execution_count": 12,
   "metadata": {},
   "outputs": [
    {
     "name": "stdout",
     "output_type": "stream",
     "text": [
      "No es es mayor de edad\n"
     ]
    }
   ],
   "source": [
    "edad=18\n",
    "\n",
    "if [ $edad -ge 21 ]; then\n",
    "    echo \"Es mayor de edad\";\n",
    "else \n",
    "    echo \"No es es mayor de edad\";\n",
    "fi"
   ]
  },
  {
   "cell_type": "markdown",
   "metadata": {},
   "source": [
    "![Operadores de Cadena](./operadores-cadena.png)"
   ]
  },
  {
   "cell_type": "code",
   "execution_count": 13,
   "metadata": {},
   "outputs": [
    {
     "name": "stdout",
     "output_type": "stream",
     "text": [
      "Usuario Incorrecto\n"
     ]
    }
   ],
   "source": [
    "nombre=\"Juan\"\n",
    "\n",
    "if [ $nombre = \"Maria\" ]; then\n",
    "    echo \"Bienvenida Maria\";\n",
    "else \n",
    "    echo \"Usuario Incorrecto\";\n",
    "fi"
   ]
  },
  {
   "cell_type": "markdown",
   "metadata": {},
   "source": [
    "![Operadores de Fichero](./operadores-fichero.png)"
   ]
  },
  {
   "cell_type": "code",
   "execution_count": 14,
   "metadata": {},
   "outputs": [
    {
     "name": "stdout",
     "output_type": "stream",
     "text": [
      "No es directorio\n"
     ]
    }
   ],
   "source": [
    "if [ -d ./prueba ]; then\n",
    "    echo \"Es un directorio\";\n",
    "else \n",
    "    echo \"No es directorio\";\n",
    "fi"
   ]
  },
  {
   "cell_type": "markdown",
   "metadata": {},
   "source": [
    "![Operadores Booolean](./operadores-booleanos.png)"
   ]
  },
  {
   "cell_type": "code",
   "execution_count": 15,
   "metadata": {},
   "outputs": [
    {
     "name": "stdout",
     "output_type": "stream",
     "text": [
      "Es valido su edad y usuario, bienvenida Rosa\n"
     ]
    }
   ],
   "source": [
    "var1=18\n",
    "var2=\"Rosa\"\n",
    "\n",
    "if [ $var1 -ge 18 -a $var2 = \"Rosa\" ]; then\n",
    "    echo \"Es valido su edad y usuario, bienvenida Rosa\";\n",
    "else \n",
    "    echo \"Acceso restringido\";\n",
    "fi"
   ]
  },
  {
   "cell_type": "markdown",
   "metadata": {},
   "source": [
    "# Iteraciones o bucles\n",
    "Son repeticiones que sirven para automatizar tareas.\n",
    "\n",
    "La estructura FOR es:        "
   ]
  },
  {
   "cell_type": "markdown",
   "metadata": {},
   "source": [
    "for i in \"variable\"; do\n",
    "    echo elemento: $i\n",
    "done"
   ]
  },
  {
   "cell_type": "markdown",
   "metadata": {},
   "source": [
    "Un ejemplo es:"
   ]
  },
  {
   "cell_type": "code",
   "execution_count": 16,
   "metadata": {},
   "outputs": [
    {
     "name": "stdout",
     "output_type": "stream",
     "text": [
      "Elemento: archivo0.txt\n",
      "Elemento: archivo1.txt\n",
      "Elemento: Conditional_Expectation_Gaussian.ipynb\n",
      "Elemento: data\n",
      "Elemento: ejercicio.sh\n",
      "Elemento: operadores-booleanos.png\n",
      "Elemento: operadores-cadena.png\n",
      "Elemento: operadores-fichero.png\n",
      "Elemento: operadores-numericos.png\n",
      "Elemento: Programacion+utilizando+BASH.aux\n",
      "Elemento: Programacion\n",
      "Elemento: utilizando\n",
      "Elemento: BASH.ipynb\n",
      "Elemento: Programacion+utilizando+BASH.log\n",
      "Elemento: Programacion+utilizando+BASH.out\n",
      "Elemento: Programacion+utilizando+BASH.pdf\n",
      "Elemento: Programacion+utilizando+BASH.tex\n"
     ]
    }
   ],
   "source": [
    "for i in $( ls ); do\n",
    "    echo Elemento: $i\n",
    "done\n",
    "        "
   ]
  },
  {
   "cell_type": "code",
   "execution_count": 17,
   "metadata": {},
   "outputs": [
    {
     "name": "stdout",
     "output_type": "stream",
     "text": [
      "item: 1\n",
      "item: 2\n",
      "item: 3\n",
      "item: 4\n",
      "item: 5\n",
      "item: 6\n",
      "item: 7\n",
      "item: 8\n",
      "item: 8\n",
      "item: 9\n"
     ]
    }
   ],
   "source": [
    "arreglo4=(1 2 3 4 5 6 7 8 8 9)\n",
    "\n",
    "for i in ${arreglo4[*]}; do\n",
    "    echo item: $i\n",
    "done      "
   ]
  },
  {
   "cell_type": "markdown",
   "metadata": {},
   "source": [
    "La estructura es:\n",
    "\n",
    "    CONT=0\n",
    "    while [  $CONT -lt 10 ]; do\n",
    "        echo El contador es $CONT\n",
    "        let CONT=CONT+1 \n",
    "\n",
    "    done\n",
    "         "
   ]
  },
  {
   "cell_type": "code",
   "execution_count": 18,
   "metadata": {},
   "outputs": [
    {
     "name": "stdout",
     "output_type": "stream",
     "text": [
      "El contado es  0\n",
      "El contado es  1\n",
      "El contado es  2\n",
      "El contado es  3\n",
      "El contado es  4\n",
      "El contado es  5\n",
      "El contado es  6\n",
      "El contado es  7\n",
      "El contado es  8\n",
      "El contado es  9\n"
     ]
    }
   ],
   "source": [
    "CONT=0\n",
    "while [  $CONT -lt 10 ]; do\n",
    "     echo \"El contado es \" $CONT\n",
    "     let CONT=$CONT+1\n",
    "done\n"
   ]
  },
  {
   "cell_type": "markdown",
   "metadata": {},
   "source": [
    "# Comandos y operadores útiles dentro de BASH\n",
    "## touch\n",
    "    Crea un archivo sin tener que abrirlo.\n",
    "\n"
   ]
  },
  {
   "cell_type": "code",
   "execution_count": 19,
   "metadata": {
    "collapsed": true
   },
   "outputs": [],
   "source": [
    "mkdir data\n",
    "touch ./data/test1.txt\n",
    "touch ./data/test2.txt\n",
    "touch ./data/test3.txt"
   ]
  },
  {
   "cell_type": "markdown",
   "metadata": {},
   "source": [
    "## >>\n",
    "    Ingresa texto a un archivo linea por linea.\n",
    "    "
   ]
  },
  {
   "cell_type": "code",
   "execution_count": 20,
   "metadata": {
    "collapsed": true
   },
   "outputs": [],
   "source": [
    "echo \"Juan Maria Jose\" >> data/test1.txt\n",
    "echo \"Juan Jose\" >> data/test2.txt\n",
    "echo \"Maria\" >> data/test3.txt"
   ]
  },
  {
   "cell_type": "markdown",
   "metadata": {},
   "source": [
    "## find\n",
    "    Busca archivos segun una ruta específica.\n",
    "\n"
   ]
  },
  {
   "cell_type": "code",
   "execution_count": 21,
   "metadata": {},
   "outputs": [
    {
     "name": "stdout",
     "output_type": "stream",
     "text": [
      "./data/test1.txt\n"
     ]
    }
   ],
   "source": [
    "find . -iname  test1.txt"
   ]
  },
  {
   "cell_type": "markdown",
   "metadata": {},
   "source": [
    "## grep\n",
    "    Buscar elementos en un archivo o varios\n"
   ]
  },
  {
   "cell_type": "code",
   "execution_count": 22,
   "metadata": {},
   "outputs": [
    {
     "name": "stdout",
     "output_type": "stream",
     "text": [
      "\u001b[35m\u001b[K./data/test1.txt\u001b[m\u001b[K\u001b[36m\u001b[K:\u001b[m\u001b[KJuan \u001b[01;31m\u001b[KMaria\u001b[m\u001b[K Jose\n",
      "\u001b[35m\u001b[K./data/test3.txt\u001b[m\u001b[K\u001b[36m\u001b[K:\u001b[m\u001b[K\u001b[01;31m\u001b[KMaria\u001b[m\u001b[K\n"
     ]
    }
   ],
   "source": [
    "grep -r \"Maria\" ./data/"
   ]
  },
  {
   "cell_type": "markdown",
   "metadata": {},
   "source": [
    "## read\n",
    "    Captura el valor ingresado por el usuario.\n"
   ]
  },
  {
   "cell_type": "code",
   "execution_count": null,
   "metadata": {
    "collapsed": true
   },
   "outputs": [],
   "source": [
    "echo \"Ingresa tu nombre: \" \n",
    "read dato"
   ]
  },
  {
   "cell_type": "markdown",
   "metadata": {},
   "source": [
    "# Ejemplo práctico\n",
    "\n",
    "- Crear un arreglo de tamaño 5, y almacenar 5 valores ingresador por el usuario.\n",
    "\n",
    "- Crear 100 archivos con extensión .txt: archivo0.txt, archivo1.txt, archivo2.txt .. archivo99.txt\n",
    "\n",
    "- Escribir los valores de las posiciones 0, 2 y 4 del arreglo en los archivos de 0 al 49.\n",
    "\n",
    "- Escribir los valores de las posiciones 1 y 3 del arreglo en los archivos de 50 al 99."
   ]
  },
  {
   "cell_type": "code",
   "execution_count": null,
   "metadata": {
    "collapsed": true
   },
   "outputs": [],
   "source": [
    "#!/bin/bash\n",
    "\n",
    "CONT=0\n",
    "array5=()\n",
    "\n",
    "#Ingreso de datos\n",
    "while [  $CONT -lt 5 ]; do\n",
    "    echo \"Ingresa el elemento \"$CONT\":\"\n",
    "    read elemento\n",
    "    array5[$CONT]=$elemento\n",
    "    let CONT=$CONT+1 \n",
    "done\n",
    "\n",
    "CONT=0\n",
    "\n",
    "#Escritura de archivos\n",
    "while [  $CONT -lt 100 ]; do\n",
    "    archivo=\"archivo\"$CONT\".txt\" \n",
    "    touch $archivo\n",
    "    if [ $CONT -lt 50 ]; then\n",
    "        echo ${array5[0]} >> $archivo \n",
    "        echo ${array5[2]} >> $archivo \n",
    "        echo ${array5[4]} >> $archivo \n",
    "    else\n",
    "        echo ${array5[1]} >> $archivo\n",
    "        echo ${array5[3]} >> $archivo \n",
    "    fi\n",
    "    let CONT=$CONT+1 \n",
    "done"
   ]
  }
 ],
 "metadata": {
  "kernelspec": {
   "display_name": "Bash",
   "language": "bash",
   "name": "bash"
  },
  "language_info": {
   "codemirror_mode": "shell",
   "file_extension": ".sh",
   "mimetype": "text/x-sh",
   "name": "bash"
  }
 },
 "nbformat": 4,
 "nbformat_minor": 2
}
